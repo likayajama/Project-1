{
  "nbformat": 4,
  "nbformat_minor": 0,
  "metadata": {
    "colab": {
      "provenance": [],
      "authorship_tag": "ABX9TyMltaOberHdKbtuexLY+d1n",
      "include_colab_link": true
    },
    "kernelspec": {
      "name": "python3",
      "display_name": "Python 3"
    },
    "language_info": {
      "name": "python"
    }
  },
  "cells": [
    {
      "cell_type": "markdown",
      "metadata": {
        "id": "view-in-github",
        "colab_type": "text"
      },
      "source": [
        "<a href=\"https://colab.research.google.com/github/likayajama/Project-1/blob/main/AMAZON_WebScrapping.ipynb\" target=\"_parent\"><img src=\"https://colab.research.google.com/assets/colab-badge.svg\" alt=\"Open In Colab\"/></a>"
      ]
    },
    {
      "cell_type": "code",
      "source": [
        "import requests\n",
        "from bs4 import BeautifulSoup\n",
        "import csv\n",
        "\n",
        "# URL of the page to scrape\n",
        "url = 'https://www.amazon.co.za/gp/browse.html?node=28015960031&ref_=nav_em_nav_sa_bks_cookbooks_0_2_3_5'\n",
        "\n",
        "# Send a GET request to the page\n",
        "response = requests.get(url)\n",
        "# Check if the request was successful\n",
        "if response.status_code != 200:\n",
        "    print(\"Failed to retrieve the web page\")\n",
        "    exit()\n",
        "\n",
        "# Parse the page content with BeautifulSoup\n",
        "soup = BeautifulSoup(response.text, 'html.parser')\n",
        "\n",
        "# Find all products and prices based on assumed HTML structure\n",
        "products = soup.find_all('span', class_='a-size-base a-color-base')\n",
        "prices = soup.find_all('span', class_=\"a-offscreen\")\n",
        "\n",
        "# Open a CSV file to write to\n",
        "with open('productdeals.csv', 'w', newline='') as csvfile:\n",
        "    csvwriter = csv.writer(csvfile)\n",
        "    # Write header row\n",
        "    csvwriter.writerow(['Product Name', 'Price'])\n",
        "\n",
        "    # Loop through products and prices and write each to the CSV\n",
        "    for product, price in zip(products, prices):\n",
        "        # Extract and clean text\n",
        "        product_name = product.get_text(strip=True)\n",
        "        product_price = price.get_text(strip=True)\n",
        "        # Write to CSV\n",
        "        csvwriter.writerow([product_name, product_price])\n",
        "\n",
        "print(\"Data has been written to productsdeals.csv\")"
      ],
      "metadata": {
        "colab": {
          "base_uri": "https://localhost:8080/"
        },
        "id": "DPk6VqhM9EGc",
        "outputId": "aa4756f4-7b2b-413d-dfed-aa4b08ce15dc"
      },
      "execution_count": 1,
      "outputs": [
        {
          "output_type": "stream",
          "name": "stdout",
          "text": [
            "Data has been written to productsdeals.csv\n"
          ]
        }
      ]
    }
  ]
}