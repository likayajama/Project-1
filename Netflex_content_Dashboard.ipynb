{
  "nbformat": 4,
  "nbformat_minor": 0,
  "metadata": {
    "colab": {
      "provenance": [],
      "include_colab_link": true
    },
    "kernelspec": {
      "name": "python3",
      "display_name": "Python 3"
    },
    "language_info": {
      "name": "python"
    }
  },
  "cells": [
    {
      "cell_type": "markdown",
      "metadata": {
        "id": "view-in-github",
        "colab_type": "text"
      },
      "source": [
        "<a href=\"https://colab.research.google.com/github/likayajama/Project-1/blob/main/Netflex_content_Dashboard.ipynb\" target=\"_parent\"><img src=\"https://colab.research.google.com/assets/colab-badge.svg\" alt=\"Open In Colab\"/></a>"
      ]
    },
    {
      "cell_type": "code",
      "execution_count": 5,
      "metadata": {
        "colab": {
          "base_uri": "https://localhost:8080/",
          "height": 671
        },
        "id": "4bh78pA6Y3cI",
        "outputId": "8cdfc10d-5b26-48ef-9507-e19191e93b74"
      },
      "outputs": [
        {
          "output_type": "display_data",
          "data": {
            "text/plain": [
              "<IPython.core.display.Javascript object>"
            ],
            "application/javascript": [
              "(async (port, path, width, height, cache, element) => {\n",
              "    if (!google.colab.kernel.accessAllowed && !cache) {\n",
              "      return;\n",
              "    }\n",
              "    element.appendChild(document.createTextNode(''));\n",
              "    const url = await google.colab.kernel.proxyPort(port, {cache});\n",
              "    const iframe = document.createElement('iframe');\n",
              "    iframe.src = new URL(path, url).toString();\n",
              "    iframe.height = height;\n",
              "    iframe.width = width;\n",
              "    iframe.style.border = 0;\n",
              "    iframe.allow = [\n",
              "        'accelerometer',\n",
              "        'autoplay',\n",
              "        'camera',\n",
              "        'clipboard-read',\n",
              "        'clipboard-write',\n",
              "        'gyroscope',\n",
              "        'magnetometer',\n",
              "        'microphone',\n",
              "        'serial',\n",
              "        'usb',\n",
              "        'xr-spatial-tracking',\n",
              "    ].join('; ');\n",
              "    element.appendChild(iframe);\n",
              "  })(8050, \"/\", \"100%\", 650, false, window.element)"
            ]
          },
          "metadata": {}
        }
      ],
      "source": [
        "import dash\n",
        "from dash import html, dcc, Input, Output\n",
        "import plotly.express as px\n",
        "import pandas as pd\n",
        "df = pd.read_csv('/netflix_titles.csv', encoding='latin-1')\n",
        "#df['release_year'] = pd.to_datetime(df['release_year'], errors='coerce').dt.year\n",
        "#df['date_added'] = pd.to_datetime(df['date_added'], errors='coerce')\n",
        "#Step 2: Create Dash Layout with Filters\n",
        "app = dash.Dash(__name__)\n",
        "app.layout = html.Div([\n",
        "    html.Div([\n",
        "        html.H2(\"Netflix Content Dashboard\", style={'color': '#3360ff'}),\n",
        "        dcc.Dropdown(id='year_filter', options=[{'label': i, 'value': i} for i in sorted(df['release_year'].dropna().unique())], placeholder='Select Year'),\n",
        "        dcc.Dropdown(id='type_filter', options=[{'label': i, 'value': i} for i in df['type'].unique()], placeholder='Select Type')\n",
        "    ], style={'width': '50%', 'display': 'inline-block', 'padding': '20px'}),\n",
        "\n",
        "    html.Div([\n",
        "        dcc.Graph(id='genre_chart'),\n",
        "        dcc.Graph(id='release_timeline'),\n",
        "        dcc.Graph(id='type_analysis'),\n",
        "        dcc.Graph(id='duration_scatter'),\n",
        "        dcc.Graph(id='geo_map')\n",
        "    ], style={'width': '75%', 'display': 'inline-block'})\n",
        "], style={'backgroundColor': '#DFFF00', 'padding': '20px'}) # Added background color and padding to the main div\n",
        "#Define Interactive Visualizations\n",
        "@app.callback(\n",
        "    Output('genre_chart', 'figure'),\n",
        "    Output('release_timeline', 'figure'),\n",
        "    Output('type_analysis', 'figure'),\n",
        "    Output('duration_scatter', 'figure'),\n",
        "    Output('geo_map', 'figure'),\n",
        "    Input('year_filter', 'value'),\n",
        "    Input('type_filter', 'value')\n",
        ")\n",
        "def update_dashboard(year, type_):\n",
        "    filtered = df.copy()\n",
        "    if year:\n",
        "        filtered = filtered[filtered['release_year'] == year]\n",
        "    if type_:\n",
        "        filtered = filtered[filtered['type'] == type_]\n",
        "\n",
        "    # Genre Bar Chart\n",
        "    genres = filtered['listed_in'].str.split(', ', expand=True).stack().value_counts().nlargest(10)\n",
        "    fig1 = px.bar(x=genres.index, y=genres.values, labels={'x': 'Genre', 'y': 'Count'}, title='Top 10 Genres')\n",
        "\n",
        "    # Timeline\n",
        "    fig2 = px.histogram(filtered, x='date_added', nbins=30, title='Content Added Over Time')\n",
        "\n",
        "    # Type Pie Chart\n",
        "    fig3 = px.pie(filtered, names='type', title='Content Type Distribution')\n",
        "\n",
        "    # Duration\n",
        "    fig4 = px.scatter(filtered[filtered['duration'].notna()], x='release_year', y='duration', title='Content Duration Trends')\n",
        "\n",
        "    # Country Map\n",
        "    country_counts = filtered['country'].dropna().str.split(', ').explode().value_counts()\n",
        "    fig5 = px.choropleth(locations=country_counts.index, locationmode='country names', color=country_counts.values, title='Content by Country')\n",
        "\n",
        "    return fig1, fig2, fig3, fig4, fig5\n",
        "\n",
        "if __name__ == '__main__':\n",
        "    app.run(debug=True)\n"
      ]
    },
    {
      "cell_type": "code",
      "source": [
        "# prompt: change the color of the dashboard background to be black and red abd gold life netflix\n",
        "\n",
        "import dash\n",
        "from dash import html, dcc, Input, Output\n",
        "import plotly.express as px\n",
        "import pandas as pd\n",
        "df = pd.read_csv('/netflix_titles.csv', encoding='latin-1')\n",
        "#df['release_year'] = pd.to_datetime(df['release_year'], errors='coerce').dt.year\n",
        "#df['date_added'] = pd.to_datetime(df['date_added'], errors='coerce')\n",
        "#Step 2: Create Dash Layout with Filters\n",
        "app = dash.Dash(__name__)\n",
        "app.layout = html.Div([\n",
        "    html.Div([\n",
        "        html.H2(\"Netflix Content Dashboard\", style={'color': '#E50914'}), # Netflix red color for title\n",
        "        dcc.Dropdown(id='year_filter', options=[{'label': i, 'value': i} for i in sorted(df['release_year'].dropna().unique())], placeholder='Select Year', style={'backgroundColor': '#222222', 'color': 'white'}), # Dark background for dropdown\n",
        "        dcc.Dropdown(id='type_filter', options=[{'label': i, 'value': i} for i in df['type'].unique()], placeholder='Select Type', style={'backgroundColor': '#222222', 'color': 'white'}) # Dark background for dropdown\n",
        "    ], style={'width': '50%', 'display': 'inline-block', 'padding': '20px', 'backgroundColor': '#141414'}), # Dark background for the filter section\n",
        "\n",
        "    html.Div([\n",
        "        dcc.Graph(id='genre_chart', style={'backgroundColor': '#222222'}),\n",
        "        dcc.Graph(id='release_timeline', style={'backgroundColor': '#222222'}),\n",
        "        dcc.Graph(id='type_analysis', style={'backgroundColor': '#222222'}),\n",
        "        dcc.Graph(id='duration_scatter', style={'backgroundColor': '#222222'}),\n",
        "        dcc.Graph(id='geo_map', style={'backgroundColor': '#222222'})\n",
        "    ], style={'width': '75%', 'display': 'inline-block', 'backgroundColor': '#141414'}) # Dark background for the graphs section\n",
        "], style={'backgroundColor': 'black', 'padding': '20px', 'color': 'white'}) # Black background for the main div and white text color\n",
        "#Define Interactive Visualizations\n",
        "@app.callback(\n",
        "    Output('genre_chart', 'figure'),\n",
        "    Output('release_timeline', 'figure'),\n",
        "    Output('type_analysis', 'figure'),\n",
        "    Output('duration_scatter', 'figure'),\n",
        "    Output('geo_map', 'figure'),\n",
        "    Input('year_filter', 'value'),\n",
        "    Input('type_filter', 'value')\n",
        ")\n",
        "def update_dashboard(year, type_):\n",
        "    filtered = df.copy()\n",
        "    if year:\n",
        "        filtered = filtered[filtered['release_year'] == year]\n",
        "    if type_:\n",
        "        filtered = filtered[filtered['type'] == type_]\n",
        "\n",
        "    # Genre Bar Chart\n",
        "    genres = filtered['listed_in'].str.split(', ', expand=True).stack().value_counts().nlargest(10)\n",
        "    fig1 = px.bar(x=genres.index, y=genres.values, labels={'x': 'Genre', 'y': 'Count'}, title='Top 10 Genres')\n",
        "    fig1.update_layout(plot_bgcolor='#222222', paper_bgcolor='#222222', font_color='white') # Set graph background and font color\n",
        "\n",
        "    # Timeline\n",
        "    fig2 = px.histogram(filtered, x='date_added', nbins=30, title='Content Added Over Time')\n",
        "    fig2.update_layout(plot_bgcolor='#222222', paper_bgcolor='#222222', font_color='white') # Set graph background and font color\n",
        "\n",
        "    # Type Pie Chart\n",
        "    fig3 = px.pie(filtered, names='type', title='Content Type Distribution')\n",
        "    fig3.update_layout(plot_bgcolor='#222222', paper_bgcolor='#222222', font_color='white') # Set graph background and font color\n",
        "\n",
        "    # Duration\n",
        "    fig4 = px.scatter(filtered[filtered['duration'].notna()], x='release_year', y='duration', title='Content Duration Trends')\n",
        "    fig4.update_layout(plot_bgcolor='#222222', paper_bgcolor='#222222', font_color='white') # Set graph background and font color\n",
        "\n",
        "    # Country Map\n",
        "    country_counts = filtered['country'].dropna().str.split(', ').explode().value_counts()\n",
        "    fig5 = px.choropleth(locations=country_counts.index, locationmode='country names', color=country_counts.values, title='Content by Country')\n",
        "    fig5.update_layout(plot_bgcolor='#222222', paper_bgcolor='#222222', font_color='white') # Set graph background and font color\n",
        "\n",
        "    return fig1, fig2, fig3, fig4, fig5\n",
        "\n",
        "if __name__ == '__main__':\n",
        "    app.run(debug=True)\n"
      ],
      "metadata": {
        "colab": {
          "base_uri": "https://localhost:8080/",
          "height": 671
        },
        "id": "e-xIWkNBjbnT",
        "outputId": "930a4e62-3095-4263-f354-05c67858e5c1"
      },
      "execution_count": 6,
      "outputs": [
        {
          "output_type": "display_data",
          "data": {
            "text/plain": [
              "<IPython.core.display.Javascript object>"
            ],
            "application/javascript": [
              "(async (port, path, width, height, cache, element) => {\n",
              "    if (!google.colab.kernel.accessAllowed && !cache) {\n",
              "      return;\n",
              "    }\n",
              "    element.appendChild(document.createTextNode(''));\n",
              "    const url = await google.colab.kernel.proxyPort(port, {cache});\n",
              "    const iframe = document.createElement('iframe');\n",
              "    iframe.src = new URL(path, url).toString();\n",
              "    iframe.height = height;\n",
              "    iframe.width = width;\n",
              "    iframe.style.border = 0;\n",
              "    iframe.allow = [\n",
              "        'accelerometer',\n",
              "        'autoplay',\n",
              "        'camera',\n",
              "        'clipboard-read',\n",
              "        'clipboard-write',\n",
              "        'gyroscope',\n",
              "        'magnetometer',\n",
              "        'microphone',\n",
              "        'serial',\n",
              "        'usb',\n",
              "        'xr-spatial-tracking',\n",
              "    ].join('; ');\n",
              "    element.appendChild(iframe);\n",
              "  })(8050, \"/\", \"100%\", 650, false, window.element)"
            ]
          },
          "metadata": {}
        }
      ]
    },
    {
      "cell_type": "markdown",
      "source": [],
      "metadata": {
        "id": "urkDup3bkMfQ"
      }
    },
    {
      "cell_type": "markdown",
      "source": [
        "# New Section"
      ],
      "metadata": {
        "id": "b-v4AFySZ4qm"
      }
    },
    {
      "cell_type": "code",
      "metadata": {
        "colab": {
          "base_uri": "https://localhost:8080/"
        },
        "id": "0be1e389",
        "outputId": "f4eb62c9-1de8-4b40-80f2-108aa5f744bc"
      },
      "source": [
        "%pip install dash dash-core-components dash-html-components dash-bootstrap-components plotly"
      ],
      "execution_count": 4,
      "outputs": [
        {
          "output_type": "stream",
          "name": "stdout",
          "text": [
            "Requirement already satisfied: dash in /usr/local/lib/python3.11/dist-packages (3.0.4)\n",
            "Requirement already satisfied: dash-core-components in /usr/local/lib/python3.11/dist-packages (2.0.0)\n",
            "Requirement already satisfied: dash-html-components in /usr/local/lib/python3.11/dist-packages (2.0.0)\n",
            "Requirement already satisfied: dash-bootstrap-components in /usr/local/lib/python3.11/dist-packages (2.0.3)\n",
            "Requirement already satisfied: plotly in /usr/local/lib/python3.11/dist-packages (5.24.1)\n",
            "Requirement already satisfied: Flask<3.1,>=1.0.4 in /usr/local/lib/python3.11/dist-packages (from dash) (3.0.3)\n",
            "Requirement already satisfied: Werkzeug<3.1 in /usr/local/lib/python3.11/dist-packages (from dash) (3.0.6)\n",
            "Requirement already satisfied: importlib-metadata in /usr/local/lib/python3.11/dist-packages (from dash) (8.7.0)\n",
            "Requirement already satisfied: typing-extensions>=4.1.1 in /usr/local/lib/python3.11/dist-packages (from dash) (4.14.0)\n",
            "Requirement already satisfied: requests in /usr/local/lib/python3.11/dist-packages (from dash) (2.32.3)\n",
            "Requirement already satisfied: retrying in /usr/local/lib/python3.11/dist-packages (from dash) (1.3.4)\n",
            "Requirement already satisfied: nest-asyncio in /usr/local/lib/python3.11/dist-packages (from dash) (1.6.0)\n",
            "Requirement already satisfied: setuptools in /usr/local/lib/python3.11/dist-packages (from dash) (75.2.0)\n",
            "Requirement already satisfied: tenacity>=6.2.0 in /usr/local/lib/python3.11/dist-packages (from plotly) (9.1.2)\n",
            "Requirement already satisfied: packaging in /usr/local/lib/python3.11/dist-packages (from plotly) (24.2)\n",
            "Requirement already satisfied: Jinja2>=3.1.2 in /usr/local/lib/python3.11/dist-packages (from Flask<3.1,>=1.0.4->dash) (3.1.6)\n",
            "Requirement already satisfied: itsdangerous>=2.1.2 in /usr/local/lib/python3.11/dist-packages (from Flask<3.1,>=1.0.4->dash) (2.2.0)\n",
            "Requirement already satisfied: click>=8.1.3 in /usr/local/lib/python3.11/dist-packages (from Flask<3.1,>=1.0.4->dash) (8.2.1)\n",
            "Requirement already satisfied: blinker>=1.6.2 in /usr/local/lib/python3.11/dist-packages (from Flask<3.1,>=1.0.4->dash) (1.9.0)\n",
            "Requirement already satisfied: MarkupSafe>=2.1.1 in /usr/local/lib/python3.11/dist-packages (from Werkzeug<3.1->dash) (3.0.2)\n",
            "Requirement already satisfied: zipp>=3.20 in /usr/local/lib/python3.11/dist-packages (from importlib-metadata->dash) (3.22.0)\n",
            "Requirement already satisfied: charset-normalizer<4,>=2 in /usr/local/lib/python3.11/dist-packages (from requests->dash) (3.4.2)\n",
            "Requirement already satisfied: idna<4,>=2.5 in /usr/local/lib/python3.11/dist-packages (from requests->dash) (3.10)\n",
            "Requirement already satisfied: urllib3<3,>=1.21.1 in /usr/local/lib/python3.11/dist-packages (from requests->dash) (2.4.0)\n",
            "Requirement already satisfied: certifi>=2017.4.17 in /usr/local/lib/python3.11/dist-packages (from requests->dash) (2025.4.26)\n",
            "Requirement already satisfied: six>=1.7.0 in /usr/local/lib/python3.11/dist-packages (from retrying->dash) (1.17.0)\n"
          ]
        }
      ]
    }
  ]
}