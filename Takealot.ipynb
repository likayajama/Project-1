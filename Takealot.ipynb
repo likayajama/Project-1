{
  "nbformat": 4,
  "nbformat_minor": 0,
  "metadata": {
    "colab": {
      "provenance": [],
      "authorship_tag": "ABX9TyMml066LfzINl1zlLy48qw/",
      "include_colab_link": true
    },
    "kernelspec": {
      "name": "python3",
      "display_name": "Python 3"
    },
    "language_info": {
      "name": "python"
    }
  },
  "cells": [
    {
      "cell_type": "markdown",
      "metadata": {
        "id": "view-in-github",
        "colab_type": "text"
      },
      "source": [
        "<a href=\"https://colab.research.google.com/github/likayajama/Project-1/blob/main/Takealot.ipynb\" target=\"_parent\"><img src=\"https://colab.research.google.com/assets/colab-badge.svg\" alt=\"Open In Colab\"/></a>"
      ]
    },
    {
      "cell_type": "code",
      "execution_count": 1,
      "metadata": {
        "colab": {
          "base_uri": "https://localhost:8080/",
          "height": 106
        },
        "id": "-gIwT4OlD3lM",
        "outputId": "46c3b447-c2d7-4ab9-d72f-c26d7f191618"
      },
      "outputs": [
        {
          "output_type": "error",
          "ename": "SyntaxError",
          "evalue": "invalid syntax (ipython-input-1-1096029406.py, line 19)",
          "traceback": [
            "\u001b[0;36m  File \u001b[0;32m\"/tmp/ipython-input-1-1096029406.py\"\u001b[0;36m, line \u001b[0;32m19\u001b[0m\n\u001b[0;31m    products = soup.find_all('span', class=\"product-card-module_link-underlay_3sfaA\")\u001b[0m\n\u001b[0m                                     ^\u001b[0m\n\u001b[0;31mSyntaxError\u001b[0m\u001b[0;31m:\u001b[0m invalid syntax\n"
          ]
        }
      ],
      "source": [
        "import requests\n",
        "from bs4 import BeautifulSoup\n",
        "import csv\n",
        "\n",
        "# URL of the page to scrape\n",
        "url = 'https://www.takealot.com/home-kitchen/vodka-25199?sort=ReleaseDate%20Descending'\n",
        "\n",
        "# Send a GET request to the page\n",
        "response = requests.get(url)\n",
        "# Check if the request was successful\n",
        "if response.status_code != 200:\n",
        "    print(\"Failed to retrieve the web page\")\n",
        "    exit()\n",
        "\n",
        "# Parse the page content with BeautifulSoup\n",
        "soup = BeautifulSoup(response.text, 'html.parser')\n",
        "\n",
        "# Find all products and prices based on assumed HTML structure\n",
        "products = soup.find_all('a', class_=\"class=\"product-card-module_link-underlay_3sfaA\"\")\n",
        "prices = soup.find_all('span', class_=\"/absolut-original-vodka-750ml/PLID40687381\")\n",
        "\n",
        "# Open a CSV file to write to\n",
        "with open('productdeals.csv', 'w', newline='') as csvfile:\n",
        "    csvwriter = csv.writer(csvfile)\n",
        "    # Write header row\n",
        "    csvwriter.writerow(['Product Name', 'Price'])\n",
        "\n",
        "    # Loop through products and prices and write each to the CSV\n",
        "    for product, price in zip(products, prices):\n",
        "        # Extract and clean text\n",
        "        product_name = product.get_text(strip=True)\n",
        "        product_price = price.get_text(strip=True)\n",
        "        # Write to CSV\n",
        "        csvwriter.writerow([product_name, product_price])\n",
        "\n",
        "print(\"Data has been written to productsdeals.csv\")"
      ]
    }
  ]
}